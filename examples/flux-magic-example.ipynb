{
 "cells": [
  {
   "cell_type": "code",
   "execution_count": 23,
   "metadata": {
    "jupyter": {
     "outputs_hidden": false
    }
   },
   "outputs": [
    {
     "name": "stdout",
     "output_type": "stream",
     "text": [
      "Requirement already satisfied: pandas in /usr/local/Cellar/jupyterlab/2.2.0/libexec/lib/python3.8/site-packages (1.0.5)\r\n",
      "Requirement already satisfied: ipython-flux in /Users/rob/bonitoo/github/ipython-flux/src (0.0.1)\r\n",
      "Requirement already satisfied: pytz>=2017.2 in /usr/local/Cellar/jupyterlab/2.2.0/libexec/lib/python3.8/site-packages (from pandas) (2020.1)\r\n",
      "Requirement already satisfied: numpy>=1.13.3 in /usr/local/Cellar/jupyterlab/2.2.0/libexec/lib/python3.8/site-packages (from pandas) (1.19.0)\r\n",
      "Requirement already satisfied: python-dateutil>=2.6.1 in /usr/local/Cellar/jupyterlab/2.2.0/libexec/lib/python3.8/site-packages (from pandas) (2.8.1)\r\n",
      "Requirement already satisfied: prettytable<1 in /usr/local/Cellar/jupyterlab/2.2.0/libexec/lib/python3.8/site-packages (from ipython-flux) (0.7.2)\r\n",
      "Requirement already satisfied: ipython>=1.0 in /usr/local/Cellar/jupyterlab/2.2.0/libexec/lib/python3.8/site-packages (from ipython-flux) (7.16.1)\r\n",
      "Requirement already satisfied: influxdb-client in /usr/local/Cellar/jupyterlab/2.2.0/libexec/lib/python3.8/site-packages (from ipython-flux) (1.9.0)\r\n",
      "Requirement already satisfied: six in /usr/local/Cellar/jupyterlab/2.2.0/libexec/lib/python3.8/site-packages (from ipython-flux) (1.15.0)\r\n",
      "Requirement already satisfied: ipython-genutils>=0.1.0 in /usr/local/Cellar/jupyterlab/2.2.0/libexec/lib/python3.8/site-packages (from ipython-flux) (0.2.0)\r\n",
      "Requirement already satisfied: setuptools>=18.5 in /usr/local/Cellar/jupyterlab/2.2.0/libexec/lib/python3.8/site-packages (from ipython>=1.0->ipython-flux) (49.2.0)\r\n",
      "Requirement already satisfied: jedi>=0.10 in /usr/local/Cellar/jupyterlab/2.2.0/libexec/lib/python3.8/site-packages (from ipython>=1.0->ipython-flux) (0.17.1)\r\n",
      "Requirement already satisfied: decorator in /usr/local/Cellar/jupyterlab/2.2.0/libexec/lib/python3.8/site-packages (from ipython>=1.0->ipython-flux) (4.4.2)\r\n",
      "Requirement already satisfied: pickleshare in /usr/local/Cellar/jupyterlab/2.2.0/libexec/lib/python3.8/site-packages (from ipython>=1.0->ipython-flux) (0.7.5)\r\n",
      "Requirement already satisfied: traitlets>=4.2 in /usr/local/Cellar/jupyterlab/2.2.0/libexec/lib/python3.8/site-packages (from ipython>=1.0->ipython-flux) (4.3.3)\r\n",
      "Requirement already satisfied: prompt_toolkit!=3.0.0,!=3.0.1,<3.1.0,>=2.0.0 in /usr/local/Cellar/jupyterlab/2.2.0/libexec/lib/python3.8/site-packages (from ipython>=1.0->ipython-flux) (3.0.5)\r\n",
      "Requirement already satisfied: pygments in /usr/local/Cellar/jupyterlab/2.2.0/libexec/lib/python3.8/site-packages (from ipython>=1.0->ipython-flux) (2.6.1)\r\n",
      "Requirement already satisfied: backcall in /usr/local/Cellar/jupyterlab/2.2.0/libexec/lib/python3.8/site-packages (from ipython>=1.0->ipython-flux) (0.2.0)\r\n",
      "Requirement already satisfied: appnope in /usr/local/Cellar/jupyterlab/2.2.0/libexec/lib/python3.8/site-packages (from ipython>=1.0->ipython-flux) (0.1.0)\r\n",
      "Requirement already satisfied: pexpect in /usr/local/Cellar/jupyterlab/2.2.0/libexec/lib/python3.8/site-packages (from ipython>=1.0->ipython-flux) (4.8.0)\r\n",
      "Requirement already satisfied: urllib3>=1.15.1 in /usr/local/Cellar/jupyterlab/2.2.0/libexec/lib/python3.8/site-packages (from influxdb-client->ipython-flux) (1.25.9)\r\n",
      "Requirement already satisfied: rx>=3.0.1 in /usr/local/Cellar/jupyterlab/2.2.0/libexec/lib/python3.8/site-packages (from influxdb-client->ipython-flux) (3.1.1)\r\n",
      "Requirement already satisfied: certifi>=14.05.14 in /usr/local/Cellar/jupyterlab/2.2.0/libexec/lib/python3.8/site-packages (from influxdb-client->ipython-flux) (2020.6.20)\r\n",
      "Requirement already satisfied: parso<0.8.0,>=0.7.0 in /usr/local/Cellar/jupyterlab/2.2.0/libexec/lib/python3.8/site-packages (from jedi>=0.10->ipython>=1.0->ipython-flux) (0.7.0)\r\n",
      "Requirement already satisfied: wcwidth in /usr/local/Cellar/jupyterlab/2.2.0/libexec/lib/python3.8/site-packages (from prompt_toolkit!=3.0.0,!=3.0.1,<3.1.0,>=2.0.0->ipython>=1.0->ipython-flux) (0.2.5)\r\n",
      "Requirement already satisfied: ptyprocess>=0.5 in /usr/local/Cellar/jupyterlab/2.2.0/libexec/lib/python3.8/site-packages (from pexpect->ipython>=1.0->ipython-flux) (0.6.0)\r\n",
      "\u001B[33mWARNING: You are using pip version 20.1.1; however, version 20.2.1 is available.\r\n",
      "You should consider upgrading via the '/usr/local/Cellar/jupyterlab/2.2.0/libexec/bin/python3.8 -m pip install --upgrade pip' command.\u001B[0m\r\n",
      "The flux extension is already loaded. To reload it, use:\n",
      "  %reload_ext flux\n"
     ]
    }
   ],
   "source": [
    "import sys\n",
    "# install dependencies into jupyter\n",
    "!{sys.executable} -m pip install pandas ipython-flux\n",
    "\n",
    "# enable flux magic extension\n",
    "%load_ext flux"
   ]
  },
  {
   "cell_type": "code",
   "execution_count": 24,
   "metadata": {
    "jupyter": {
     "outputs_hidden": false
    }
   },
   "outputs": [],
   "source": [
    "%flux http://localhost:9999 --token my-token --org my-org"
   ]
  },
  {
   "cell_type": "code",
   "execution_count": 25,
   "metadata": {
    "jupyter": {
     "outputs_hidden": false
    },
    "pycharm": {
     "name": "#%%\n"
    },
    "scrolled": true
   },
   "outputs": [
    {
     "name": "stdout",
     "output_type": "stream",
     "text": [
      "* \"'http://localhost:9999'\"\n"
     ]
    },
    {
     "data": {
      "text/plain": "        result table                            _start  \\\n0      _result     0  2020-08-05 15:57:13.994106+00:00   \n1      _result     0  2020-08-05 15:57:13.994106+00:00   \n2      _result     0  2020-08-05 15:57:13.994106+00:00   \n3      _result     0  2020-08-05 15:57:13.994106+00:00   \n4      _result     0  2020-08-05 15:57:13.994106+00:00   \n...        ...   ...                               ...   \n17273  _result     1  2020-08-05 15:57:13.994106+00:00   \n17274  _result     1  2020-08-05 15:57:13.994106+00:00   \n17275  _result     1  2020-08-05 15:57:13.994106+00:00   \n17276  _result     1  2020-08-05 15:57:13.994106+00:00   \n17277  _result     1  2020-08-05 15:57:13.994106+00:00   \n\n                                  _stop                      _time     _value  \\\n0      2020-08-06 15:57:13.994106+00:00  2020-08-05 15:57:14+00:00  16.283716   \n1      2020-08-06 15:57:13.994106+00:00  2020-08-05 15:57:24+00:00  15.615616   \n2      2020-08-06 15:57:13.994106+00:00  2020-08-05 15:57:34+00:00  19.100000   \n3      2020-08-06 15:57:13.994106+00:00  2020-08-05 15:57:44+00:00  14.900000   \n4      2020-08-06 15:57:13.994106+00:00  2020-08-05 15:57:54+00:00  14.900000   \n...                                 ...                        ...        ...   \n17273  2020-08-06 15:57:13.994106+00:00  2020-08-06 15:56:15+00:00   0.299700   \n17274  2020-08-06 15:57:13.994106+00:00  2020-08-06 15:56:25+00:00   0.300000   \n17275  2020-08-06 15:57:13.994106+00:00  2020-08-06 15:56:35+00:00   0.300300   \n17276  2020-08-06 15:57:13.994106+00:00  2020-08-06 15:56:45+00:00   0.600000   \n17277  2020-08-06 15:57:13.994106+00:00  2020-08-06 15:56:55+00:00   0.499500   \n\n           _field _measurement   cpu         host  \n0      usage_user          cpu  cpu2  kozel.local  \n1      usage_user          cpu  cpu2  kozel.local  \n2      usage_user          cpu  cpu2  kozel.local  \n3      usage_user          cpu  cpu2  kozel.local  \n4      usage_user          cpu  cpu2  kozel.local  \n...           ...          ...   ...          ...  \n17273  usage_user          cpu  cpu1  kozel.local  \n17274  usage_user          cpu  cpu1  kozel.local  \n17275  usage_user          cpu  cpu1  kozel.local  \n17276  usage_user          cpu  cpu1  kozel.local  \n17277  usage_user          cpu  cpu1  kozel.local  \n\n[17278 rows x 10 columns]",
      "text/html": "<div>\n<style scoped>\n    .dataframe tbody tr th:only-of-type {\n        vertical-align: middle;\n    }\n\n    .dataframe tbody tr th {\n        vertical-align: top;\n    }\n\n    .dataframe thead th {\n        text-align: right;\n    }\n</style>\n<table border=\"1\" class=\"dataframe\">\n  <thead>\n    <tr style=\"text-align: right;\">\n      <th></th>\n      <th>result</th>\n      <th>table</th>\n      <th>_start</th>\n      <th>_stop</th>\n      <th>_time</th>\n      <th>_value</th>\n      <th>_field</th>\n      <th>_measurement</th>\n      <th>cpu</th>\n      <th>host</th>\n    </tr>\n  </thead>\n  <tbody>\n    <tr>\n      <th>0</th>\n      <td>_result</td>\n      <td>0</td>\n      <td>2020-08-05 15:57:13.994106+00:00</td>\n      <td>2020-08-06 15:57:13.994106+00:00</td>\n      <td>2020-08-05 15:57:14+00:00</td>\n      <td>16.283716</td>\n      <td>usage_user</td>\n      <td>cpu</td>\n      <td>cpu2</td>\n      <td>kozel.local</td>\n    </tr>\n    <tr>\n      <th>1</th>\n      <td>_result</td>\n      <td>0</td>\n      <td>2020-08-05 15:57:13.994106+00:00</td>\n      <td>2020-08-06 15:57:13.994106+00:00</td>\n      <td>2020-08-05 15:57:24+00:00</td>\n      <td>15.615616</td>\n      <td>usage_user</td>\n      <td>cpu</td>\n      <td>cpu2</td>\n      <td>kozel.local</td>\n    </tr>\n    <tr>\n      <th>2</th>\n      <td>_result</td>\n      <td>0</td>\n      <td>2020-08-05 15:57:13.994106+00:00</td>\n      <td>2020-08-06 15:57:13.994106+00:00</td>\n      <td>2020-08-05 15:57:34+00:00</td>\n      <td>19.100000</td>\n      <td>usage_user</td>\n      <td>cpu</td>\n      <td>cpu2</td>\n      <td>kozel.local</td>\n    </tr>\n    <tr>\n      <th>3</th>\n      <td>_result</td>\n      <td>0</td>\n      <td>2020-08-05 15:57:13.994106+00:00</td>\n      <td>2020-08-06 15:57:13.994106+00:00</td>\n      <td>2020-08-05 15:57:44+00:00</td>\n      <td>14.900000</td>\n      <td>usage_user</td>\n      <td>cpu</td>\n      <td>cpu2</td>\n      <td>kozel.local</td>\n    </tr>\n    <tr>\n      <th>4</th>\n      <td>_result</td>\n      <td>0</td>\n      <td>2020-08-05 15:57:13.994106+00:00</td>\n      <td>2020-08-06 15:57:13.994106+00:00</td>\n      <td>2020-08-05 15:57:54+00:00</td>\n      <td>14.900000</td>\n      <td>usage_user</td>\n      <td>cpu</td>\n      <td>cpu2</td>\n      <td>kozel.local</td>\n    </tr>\n    <tr>\n      <th>...</th>\n      <td>...</td>\n      <td>...</td>\n      <td>...</td>\n      <td>...</td>\n      <td>...</td>\n      <td>...</td>\n      <td>...</td>\n      <td>...</td>\n      <td>...</td>\n      <td>...</td>\n    </tr>\n    <tr>\n      <th>17273</th>\n      <td>_result</td>\n      <td>1</td>\n      <td>2020-08-05 15:57:13.994106+00:00</td>\n      <td>2020-08-06 15:57:13.994106+00:00</td>\n      <td>2020-08-06 15:56:15+00:00</td>\n      <td>0.299700</td>\n      <td>usage_user</td>\n      <td>cpu</td>\n      <td>cpu1</td>\n      <td>kozel.local</td>\n    </tr>\n    <tr>\n      <th>17274</th>\n      <td>_result</td>\n      <td>1</td>\n      <td>2020-08-05 15:57:13.994106+00:00</td>\n      <td>2020-08-06 15:57:13.994106+00:00</td>\n      <td>2020-08-06 15:56:25+00:00</td>\n      <td>0.300000</td>\n      <td>usage_user</td>\n      <td>cpu</td>\n      <td>cpu1</td>\n      <td>kozel.local</td>\n    </tr>\n    <tr>\n      <th>17275</th>\n      <td>_result</td>\n      <td>1</td>\n      <td>2020-08-05 15:57:13.994106+00:00</td>\n      <td>2020-08-06 15:57:13.994106+00:00</td>\n      <td>2020-08-06 15:56:35+00:00</td>\n      <td>0.300300</td>\n      <td>usage_user</td>\n      <td>cpu</td>\n      <td>cpu1</td>\n      <td>kozel.local</td>\n    </tr>\n    <tr>\n      <th>17276</th>\n      <td>_result</td>\n      <td>1</td>\n      <td>2020-08-05 15:57:13.994106+00:00</td>\n      <td>2020-08-06 15:57:13.994106+00:00</td>\n      <td>2020-08-06 15:56:45+00:00</td>\n      <td>0.600000</td>\n      <td>usage_user</td>\n      <td>cpu</td>\n      <td>cpu1</td>\n      <td>kozel.local</td>\n    </tr>\n    <tr>\n      <th>17277</th>\n      <td>_result</td>\n      <td>1</td>\n      <td>2020-08-05 15:57:13.994106+00:00</td>\n      <td>2020-08-06 15:57:13.994106+00:00</td>\n      <td>2020-08-06 15:56:55+00:00</td>\n      <td>0.499500</td>\n      <td>usage_user</td>\n      <td>cpu</td>\n      <td>cpu1</td>\n      <td>kozel.local</td>\n    </tr>\n  </tbody>\n</table>\n<p>17278 rows × 10 columns</p>\n</div>"
     },
     "execution_count": 25,
     "metadata": {},
     "output_type": "execute_result"
    }
   ],
   "source": [
    "%%flux \n",
    "from(bucket: \"my-bucket\")\n",
    "  |> range(start: -1d)\n",
    "  |> filter(fn: (r) => r[\"_measurement\"] == \"cpu\")\n",
    "  |> filter(fn: (r) => r[\"_field\"] == \"usage_user\")\n",
    "  |> filter(fn: (r) => r[\"cpu\"] == \"cpu1\" or r[\"cpu\"] == \"cpu2\")"
   ]
  },
  {
   "cell_type": "code",
   "execution_count": 26,
   "metadata": {
    "pycharm": {
     "name": "#%%\n"
    }
   },
   "outputs": [
    {
     "data": {
      "text/plain": "        result table                            _start  \\\n0      _result     0  2020-08-05 15:57:13.994106+00:00   \n1      _result     0  2020-08-05 15:57:13.994106+00:00   \n2      _result     0  2020-08-05 15:57:13.994106+00:00   \n3      _result     0  2020-08-05 15:57:13.994106+00:00   \n4      _result     0  2020-08-05 15:57:13.994106+00:00   \n...        ...   ...                               ...   \n17273  _result     1  2020-08-05 15:57:13.994106+00:00   \n17274  _result     1  2020-08-05 15:57:13.994106+00:00   \n17275  _result     1  2020-08-05 15:57:13.994106+00:00   \n17276  _result     1  2020-08-05 15:57:13.994106+00:00   \n17277  _result     1  2020-08-05 15:57:13.994106+00:00   \n\n                                  _stop                      _time     _value  \\\n0      2020-08-06 15:57:13.994106+00:00  2020-08-05 15:57:14+00:00  16.283716   \n1      2020-08-06 15:57:13.994106+00:00  2020-08-05 15:57:24+00:00  15.615616   \n2      2020-08-06 15:57:13.994106+00:00  2020-08-05 15:57:34+00:00  19.100000   \n3      2020-08-06 15:57:13.994106+00:00  2020-08-05 15:57:44+00:00  14.900000   \n4      2020-08-06 15:57:13.994106+00:00  2020-08-05 15:57:54+00:00  14.900000   \n...                                 ...                        ...        ...   \n17273  2020-08-06 15:57:13.994106+00:00  2020-08-06 15:56:15+00:00   0.299700   \n17274  2020-08-06 15:57:13.994106+00:00  2020-08-06 15:56:25+00:00   0.300000   \n17275  2020-08-06 15:57:13.994106+00:00  2020-08-06 15:56:35+00:00   0.300300   \n17276  2020-08-06 15:57:13.994106+00:00  2020-08-06 15:56:45+00:00   0.600000   \n17277  2020-08-06 15:57:13.994106+00:00  2020-08-06 15:56:55+00:00   0.499500   \n\n           _field _measurement   cpu         host  \n0      usage_user          cpu  cpu2  kozel.local  \n1      usage_user          cpu  cpu2  kozel.local  \n2      usage_user          cpu  cpu2  kozel.local  \n3      usage_user          cpu  cpu2  kozel.local  \n4      usage_user          cpu  cpu2  kozel.local  \n...           ...          ...   ...          ...  \n17273  usage_user          cpu  cpu1  kozel.local  \n17274  usage_user          cpu  cpu1  kozel.local  \n17275  usage_user          cpu  cpu1  kozel.local  \n17276  usage_user          cpu  cpu1  kozel.local  \n17277  usage_user          cpu  cpu1  kozel.local  \n\n[17278 rows x 10 columns]",
      "text/html": "<div>\n<style scoped>\n    .dataframe tbody tr th:only-of-type {\n        vertical-align: middle;\n    }\n\n    .dataframe tbody tr th {\n        vertical-align: top;\n    }\n\n    .dataframe thead th {\n        text-align: right;\n    }\n</style>\n<table border=\"1\" class=\"dataframe\">\n  <thead>\n    <tr style=\"text-align: right;\">\n      <th></th>\n      <th>result</th>\n      <th>table</th>\n      <th>_start</th>\n      <th>_stop</th>\n      <th>_time</th>\n      <th>_value</th>\n      <th>_field</th>\n      <th>_measurement</th>\n      <th>cpu</th>\n      <th>host</th>\n    </tr>\n  </thead>\n  <tbody>\n    <tr>\n      <th>0</th>\n      <td>_result</td>\n      <td>0</td>\n      <td>2020-08-05 15:57:13.994106+00:00</td>\n      <td>2020-08-06 15:57:13.994106+00:00</td>\n      <td>2020-08-05 15:57:14+00:00</td>\n      <td>16.283716</td>\n      <td>usage_user</td>\n      <td>cpu</td>\n      <td>cpu2</td>\n      <td>kozel.local</td>\n    </tr>\n    <tr>\n      <th>1</th>\n      <td>_result</td>\n      <td>0</td>\n      <td>2020-08-05 15:57:13.994106+00:00</td>\n      <td>2020-08-06 15:57:13.994106+00:00</td>\n      <td>2020-08-05 15:57:24+00:00</td>\n      <td>15.615616</td>\n      <td>usage_user</td>\n      <td>cpu</td>\n      <td>cpu2</td>\n      <td>kozel.local</td>\n    </tr>\n    <tr>\n      <th>2</th>\n      <td>_result</td>\n      <td>0</td>\n      <td>2020-08-05 15:57:13.994106+00:00</td>\n      <td>2020-08-06 15:57:13.994106+00:00</td>\n      <td>2020-08-05 15:57:34+00:00</td>\n      <td>19.100000</td>\n      <td>usage_user</td>\n      <td>cpu</td>\n      <td>cpu2</td>\n      <td>kozel.local</td>\n    </tr>\n    <tr>\n      <th>3</th>\n      <td>_result</td>\n      <td>0</td>\n      <td>2020-08-05 15:57:13.994106+00:00</td>\n      <td>2020-08-06 15:57:13.994106+00:00</td>\n      <td>2020-08-05 15:57:44+00:00</td>\n      <td>14.900000</td>\n      <td>usage_user</td>\n      <td>cpu</td>\n      <td>cpu2</td>\n      <td>kozel.local</td>\n    </tr>\n    <tr>\n      <th>4</th>\n      <td>_result</td>\n      <td>0</td>\n      <td>2020-08-05 15:57:13.994106+00:00</td>\n      <td>2020-08-06 15:57:13.994106+00:00</td>\n      <td>2020-08-05 15:57:54+00:00</td>\n      <td>14.900000</td>\n      <td>usage_user</td>\n      <td>cpu</td>\n      <td>cpu2</td>\n      <td>kozel.local</td>\n    </tr>\n    <tr>\n      <th>...</th>\n      <td>...</td>\n      <td>...</td>\n      <td>...</td>\n      <td>...</td>\n      <td>...</td>\n      <td>...</td>\n      <td>...</td>\n      <td>...</td>\n      <td>...</td>\n      <td>...</td>\n    </tr>\n    <tr>\n      <th>17273</th>\n      <td>_result</td>\n      <td>1</td>\n      <td>2020-08-05 15:57:13.994106+00:00</td>\n      <td>2020-08-06 15:57:13.994106+00:00</td>\n      <td>2020-08-06 15:56:15+00:00</td>\n      <td>0.299700</td>\n      <td>usage_user</td>\n      <td>cpu</td>\n      <td>cpu1</td>\n      <td>kozel.local</td>\n    </tr>\n    <tr>\n      <th>17274</th>\n      <td>_result</td>\n      <td>1</td>\n      <td>2020-08-05 15:57:13.994106+00:00</td>\n      <td>2020-08-06 15:57:13.994106+00:00</td>\n      <td>2020-08-06 15:56:25+00:00</td>\n      <td>0.300000</td>\n      <td>usage_user</td>\n      <td>cpu</td>\n      <td>cpu1</td>\n      <td>kozel.local</td>\n    </tr>\n    <tr>\n      <th>17275</th>\n      <td>_result</td>\n      <td>1</td>\n      <td>2020-08-05 15:57:13.994106+00:00</td>\n      <td>2020-08-06 15:57:13.994106+00:00</td>\n      <td>2020-08-06 15:56:35+00:00</td>\n      <td>0.300300</td>\n      <td>usage_user</td>\n      <td>cpu</td>\n      <td>cpu1</td>\n      <td>kozel.local</td>\n    </tr>\n    <tr>\n      <th>17276</th>\n      <td>_result</td>\n      <td>1</td>\n      <td>2020-08-05 15:57:13.994106+00:00</td>\n      <td>2020-08-06 15:57:13.994106+00:00</td>\n      <td>2020-08-06 15:56:45+00:00</td>\n      <td>0.600000</td>\n      <td>usage_user</td>\n      <td>cpu</td>\n      <td>cpu1</td>\n      <td>kozel.local</td>\n    </tr>\n    <tr>\n      <th>17277</th>\n      <td>_result</td>\n      <td>1</td>\n      <td>2020-08-05 15:57:13.994106+00:00</td>\n      <td>2020-08-06 15:57:13.994106+00:00</td>\n      <td>2020-08-06 15:56:55+00:00</td>\n      <td>0.499500</td>\n      <td>usage_user</td>\n      <td>cpu</td>\n      <td>cpu1</td>\n      <td>kozel.local</td>\n    </tr>\n  </tbody>\n</table>\n<p>17278 rows × 10 columns</p>\n</div>"
     },
     "execution_count": 26,
     "metadata": {},
     "output_type": "execute_result"
    }
   ],
   "source": [
    "# dataframe is stored in \"_\" variable\n",
    "_"
   ]
  },
  {
   "cell_type": "code",
   "execution_count": 27,
   "outputs": [
    {
     "name": "stdout",
     "output_type": "stream",
     "text": [
      "* \"'http://localhost:9999'\"\n",
      "Returning data to local variable my_dataset\n"
     ]
    }
   ],
   "source": [
    "%%flux my_dataset <<\n",
    "from(bucket: \"test_bucket_ipython\")\n",
    "        |> range(start: 0, stop: now())\n",
    "        |> filter(fn: (r) => r[\"_measurement\"] == \"h2o_feet\")\n",
    "        |> filter(fn: (r) => r[\"_field\"] == \"water_level\")\n",
    "        |> filter(fn: (r) => r.location == \"location_0\")\n",
    "        |> filter(fn: (r) => r._field == \"water_level\")\n",
    "        |> drop(columns: [\"_start\", \"_stop\", \"table\", \"_field\", \"_measurement\"])\n",
    "        |> rename(columns: {_value: \"water_level\"})"
   ],
   "metadata": {
    "collapsed": false,
    "pycharm": {
     "name": "#%%\n"
    }
   }
  },
  {
   "cell_type": "code",
   "execution_count": 28,
   "outputs": [
    {
     "data": {
      "text/plain": "    result table                             _time  water_level    country  \\\n0  _result     0  2020-08-06 05:47:38.530499+00:00          9.0  country_0   \n1  _result     0  2020-08-06 06:47:38.530499+00:00          8.0  country_0   \n2  _result     0  2020-08-06 07:47:38.530499+00:00          7.0  country_0   \n3  _result     0  2020-08-06 08:47:38.530499+00:00          6.0  country_0   \n4  _result     0  2020-08-06 09:47:38.530499+00:00          5.0  country_0   \n5  _result     0  2020-08-06 10:47:38.530499+00:00          4.0  country_0   \n6  _result     0  2020-08-06 11:47:38.530499+00:00          3.0  country_0   \n7  _result     0  2020-08-06 12:47:38.530499+00:00          2.0  country_0   \n8  _result     0  2020-08-06 13:47:38.530499+00:00          1.0  country_0   \n9  _result     0  2020-08-06 14:47:38.530499+00:00          0.0  country_0   \n\n     location  \n0  location_0  \n1  location_0  \n2  location_0  \n3  location_0  \n4  location_0  \n5  location_0  \n6  location_0  \n7  location_0  \n8  location_0  \n9  location_0  ",
      "text/html": "<div>\n<style scoped>\n    .dataframe tbody tr th:only-of-type {\n        vertical-align: middle;\n    }\n\n    .dataframe tbody tr th {\n        vertical-align: top;\n    }\n\n    .dataframe thead th {\n        text-align: right;\n    }\n</style>\n<table border=\"1\" class=\"dataframe\">\n  <thead>\n    <tr style=\"text-align: right;\">\n      <th></th>\n      <th>result</th>\n      <th>table</th>\n      <th>_time</th>\n      <th>water_level</th>\n      <th>country</th>\n      <th>location</th>\n    </tr>\n  </thead>\n  <tbody>\n    <tr>\n      <th>0</th>\n      <td>_result</td>\n      <td>0</td>\n      <td>2020-08-06 05:47:38.530499+00:00</td>\n      <td>9.0</td>\n      <td>country_0</td>\n      <td>location_0</td>\n    </tr>\n    <tr>\n      <th>1</th>\n      <td>_result</td>\n      <td>0</td>\n      <td>2020-08-06 06:47:38.530499+00:00</td>\n      <td>8.0</td>\n      <td>country_0</td>\n      <td>location_0</td>\n    </tr>\n    <tr>\n      <th>2</th>\n      <td>_result</td>\n      <td>0</td>\n      <td>2020-08-06 07:47:38.530499+00:00</td>\n      <td>7.0</td>\n      <td>country_0</td>\n      <td>location_0</td>\n    </tr>\n    <tr>\n      <th>3</th>\n      <td>_result</td>\n      <td>0</td>\n      <td>2020-08-06 08:47:38.530499+00:00</td>\n      <td>6.0</td>\n      <td>country_0</td>\n      <td>location_0</td>\n    </tr>\n    <tr>\n      <th>4</th>\n      <td>_result</td>\n      <td>0</td>\n      <td>2020-08-06 09:47:38.530499+00:00</td>\n      <td>5.0</td>\n      <td>country_0</td>\n      <td>location_0</td>\n    </tr>\n    <tr>\n      <th>5</th>\n      <td>_result</td>\n      <td>0</td>\n      <td>2020-08-06 10:47:38.530499+00:00</td>\n      <td>4.0</td>\n      <td>country_0</td>\n      <td>location_0</td>\n    </tr>\n    <tr>\n      <th>6</th>\n      <td>_result</td>\n      <td>0</td>\n      <td>2020-08-06 11:47:38.530499+00:00</td>\n      <td>3.0</td>\n      <td>country_0</td>\n      <td>location_0</td>\n    </tr>\n    <tr>\n      <th>7</th>\n      <td>_result</td>\n      <td>0</td>\n      <td>2020-08-06 12:47:38.530499+00:00</td>\n      <td>2.0</td>\n      <td>country_0</td>\n      <td>location_0</td>\n    </tr>\n    <tr>\n      <th>8</th>\n      <td>_result</td>\n      <td>0</td>\n      <td>2020-08-06 13:47:38.530499+00:00</td>\n      <td>1.0</td>\n      <td>country_0</td>\n      <td>location_0</td>\n    </tr>\n    <tr>\n      <th>9</th>\n      <td>_result</td>\n      <td>0</td>\n      <td>2020-08-06 14:47:38.530499+00:00</td>\n      <td>0.0</td>\n      <td>country_0</td>\n      <td>location_0</td>\n    </tr>\n  </tbody>\n</table>\n</div>"
     },
     "execution_count": 28,
     "metadata": {},
     "output_type": "execute_result"
    }
   ],
   "source": [
    "my_dataset"
   ],
   "metadata": {
    "collapsed": false,
    "pycharm": {
     "name": "#%%\n"
    }
   }
  }
 ],
 "metadata": {
  "kernelspec": {
   "display_name": "Python 3",
   "language": "python",
   "name": "python3"
  },
  "language_info": {
   "codemirror_mode": {
    "name": "ipython",
    "version": 3
   },
   "file_extension": ".py",
   "mimetype": "text/x-python",
   "name": "python",
   "nbconvert_exporter": "python",
   "pygments_lexer": "ipython3",
   "version": "3.8.4"
  }
 },
 "nbformat": 4,
 "nbformat_minor": 4
}