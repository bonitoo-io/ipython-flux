{
 "cells": [
  {
   "cell_type": "code",
   "execution_count": 1,
   "metadata": {
    "jupyter": {
     "outputs_hidden": false
    }
   },
   "outputs": [],
   "source": [
    "import sys\n",
    "# install dependencies into jupyter\n",
    "#!{sys.executable} -m pip install matplotlib pandas ipython-flux\n",
    "\n",
    "# enable flux magic extension\n",
    "%load_ext flux"
   ]
  },
  {
   "cell_type": "code",
   "execution_count": 2,
   "metadata": {
    "jupyter": {
     "outputs_hidden": false
    }
   },
   "outputs": [],
   "source": [
    "%flux http://localhost:8086 --token my-token --timeout 1000000 --org my-org"
   ]
  },
  {
   "cell_type": "code",
   "execution_count": 3,
   "metadata": {
    "pycharm": {
     "name": "#%%\n"
    }
   },
   "outputs": [
    {
     "name": "stdout",
     "output_type": "stream",
     "text": [
      "* \"'http://localhost:8086'\"\n",
      "Returning data to local variable my_dataset\n"
     ]
    }
   ],
   "source": [
    "%%flux my_dataset <<\n",
    "from(bucket: \"my-bucket\")\n",
    "  |> range(start: -30m)\n",
    "  |> filter(fn: (r) => r[\"_measurement\"] == \"cpu\")\n",
    "  |> filter(fn: (r) => r[\"_field\"] == \"usage_idle\" or r[\"_field\"] == \"usage_system\" or r[\"_field\"] == \"usage_user\")  \n",
    "  |> filter(fn: (r) => r[\"cpu\"] == \"cpu-total\")\n",
    "  |> drop(columns: [\"_start\", \"_stop\", \"_result\", \"_measurement\", \"table\", \"_result\"])  \n",
    "  |> pivot(rowKey:[\"_time\"], columnKey: [\"_field\"], valueColumn: \"_value\")\n"
   ]
  },
  {
   "cell_type": "code",
   "execution_count": 4,
   "metadata": {
    "pycharm": {
     "name": "#%%\n"
    }
   },
   "outputs": [
    {
     "data": {
      "text/html": [
       "<div>\n",
       "<style scoped>\n",
       "    .dataframe tbody tr th:only-of-type {\n",
       "        vertical-align: middle;\n",
       "    }\n",
       "\n",
       "    .dataframe tbody tr th {\n",
       "        vertical-align: top;\n",
       "    }\n",
       "\n",
       "    .dataframe thead th {\n",
       "        text-align: right;\n",
       "    }\n",
       "</style>\n",
       "<table border=\"1\" class=\"dataframe\">\n",
       "  <thead>\n",
       "    <tr style=\"text-align: right;\">\n",
       "      <th></th>\n",
       "      <th>result</th>\n",
       "      <th>table</th>\n",
       "      <th>_time</th>\n",
       "      <th>cpu</th>\n",
       "      <th>host</th>\n",
       "      <th>usage_idle</th>\n",
       "      <th>usage_system</th>\n",
       "      <th>usage_user</th>\n",
       "    </tr>\n",
       "  </thead>\n",
       "  <tbody>\n",
       "    <tr>\n",
       "      <th>0</th>\n",
       "      <td>_result</td>\n",
       "      <td>0</td>\n",
       "      <td>2022-03-25 07:31:50+00:00</td>\n",
       "      <td>cpu-total</td>\n",
       "      <td>kozel</td>\n",
       "      <td>93.851153</td>\n",
       "      <td>2.549522</td>\n",
       "      <td>3.599325</td>\n",
       "    </tr>\n",
       "    <tr>\n",
       "      <th>1</th>\n",
       "      <td>_result</td>\n",
       "      <td>0</td>\n",
       "      <td>2022-03-25 07:32:00+00:00</td>\n",
       "      <td>cpu-total</td>\n",
       "      <td>kozel</td>\n",
       "      <td>92.014995</td>\n",
       "      <td>3.086535</td>\n",
       "      <td>4.898469</td>\n",
       "    </tr>\n",
       "    <tr>\n",
       "      <th>2</th>\n",
       "      <td>_result</td>\n",
       "      <td>0</td>\n",
       "      <td>2022-03-25 07:32:10+00:00</td>\n",
       "      <td>cpu-total</td>\n",
       "      <td>kozel</td>\n",
       "      <td>91.722931</td>\n",
       "      <td>2.688172</td>\n",
       "      <td>5.588897</td>\n",
       "    </tr>\n",
       "    <tr>\n",
       "      <th>3</th>\n",
       "      <td>_result</td>\n",
       "      <td>0</td>\n",
       "      <td>2022-03-25 07:32:20+00:00</td>\n",
       "      <td>cpu-total</td>\n",
       "      <td>kozel</td>\n",
       "      <td>90.711919</td>\n",
       "      <td>2.525158</td>\n",
       "      <td>6.762923</td>\n",
       "    </tr>\n",
       "    <tr>\n",
       "      <th>4</th>\n",
       "      <td>_result</td>\n",
       "      <td>0</td>\n",
       "      <td>2022-03-25 07:32:30+00:00</td>\n",
       "      <td>cpu-total</td>\n",
       "      <td>kozel</td>\n",
       "      <td>92.585646</td>\n",
       "      <td>2.381845</td>\n",
       "      <td>5.032508</td>\n",
       "    </tr>\n",
       "    <tr>\n",
       "      <th>...</th>\n",
       "      <td>...</td>\n",
       "      <td>...</td>\n",
       "      <td>...</td>\n",
       "      <td>...</td>\n",
       "      <td>...</td>\n",
       "      <td>...</td>\n",
       "      <td>...</td>\n",
       "      <td>...</td>\n",
       "    </tr>\n",
       "    <tr>\n",
       "      <th>175</th>\n",
       "      <td>_result</td>\n",
       "      <td>0</td>\n",
       "      <td>2022-03-25 08:01:00+00:00</td>\n",
       "      <td>cpu-total</td>\n",
       "      <td>kozel</td>\n",
       "      <td>94.150366</td>\n",
       "      <td>2.368602</td>\n",
       "      <td>3.481032</td>\n",
       "    </tr>\n",
       "    <tr>\n",
       "      <th>176</th>\n",
       "      <td>_result</td>\n",
       "      <td>0</td>\n",
       "      <td>2022-03-25 08:01:10+00:00</td>\n",
       "      <td>cpu-total</td>\n",
       "      <td>kozel</td>\n",
       "      <td>95.061883</td>\n",
       "      <td>2.062758</td>\n",
       "      <td>2.875359</td>\n",
       "    </tr>\n",
       "    <tr>\n",
       "      <th>177</th>\n",
       "      <td>_result</td>\n",
       "      <td>0</td>\n",
       "      <td>2022-03-25 08:01:20+00:00</td>\n",
       "      <td>cpu-total</td>\n",
       "      <td>kozel</td>\n",
       "      <td>93.762890</td>\n",
       "      <td>2.556090</td>\n",
       "      <td>3.681020</td>\n",
       "    </tr>\n",
       "    <tr>\n",
       "      <th>178</th>\n",
       "      <td>_result</td>\n",
       "      <td>0</td>\n",
       "      <td>2022-03-25 08:01:30+00:00</td>\n",
       "      <td>cpu-total</td>\n",
       "      <td>kozel</td>\n",
       "      <td>93.543750</td>\n",
       "      <td>2.787500</td>\n",
       "      <td>3.668750</td>\n",
       "    </tr>\n",
       "    <tr>\n",
       "      <th>179</th>\n",
       "      <td>_result</td>\n",
       "      <td>0</td>\n",
       "      <td>2022-03-25 08:01:40+00:00</td>\n",
       "      <td>cpu-total</td>\n",
       "      <td>kozel</td>\n",
       "      <td>94.618750</td>\n",
       "      <td>2.312500</td>\n",
       "      <td>3.068750</td>\n",
       "    </tr>\n",
       "  </tbody>\n",
       "</table>\n",
       "<p>180 rows × 8 columns</p>\n",
       "</div>"
      ],
      "text/plain": [
       "      result  table                     _time        cpu   host  usage_idle  \\\n",
       "0    _result      0 2022-03-25 07:31:50+00:00  cpu-total  kozel   93.851153   \n",
       "1    _result      0 2022-03-25 07:32:00+00:00  cpu-total  kozel   92.014995   \n",
       "2    _result      0 2022-03-25 07:32:10+00:00  cpu-total  kozel   91.722931   \n",
       "3    _result      0 2022-03-25 07:32:20+00:00  cpu-total  kozel   90.711919   \n",
       "4    _result      0 2022-03-25 07:32:30+00:00  cpu-total  kozel   92.585646   \n",
       "..       ...    ...                       ...        ...    ...         ...   \n",
       "175  _result      0 2022-03-25 08:01:00+00:00  cpu-total  kozel   94.150366   \n",
       "176  _result      0 2022-03-25 08:01:10+00:00  cpu-total  kozel   95.061883   \n",
       "177  _result      0 2022-03-25 08:01:20+00:00  cpu-total  kozel   93.762890   \n",
       "178  _result      0 2022-03-25 08:01:30+00:00  cpu-total  kozel   93.543750   \n",
       "179  _result      0 2022-03-25 08:01:40+00:00  cpu-total  kozel   94.618750   \n",
       "\n",
       "     usage_system  usage_user  \n",
       "0        2.549522    3.599325  \n",
       "1        3.086535    4.898469  \n",
       "2        2.688172    5.588897  \n",
       "3        2.525158    6.762923  \n",
       "4        2.381845    5.032508  \n",
       "..            ...         ...  \n",
       "175      2.368602    3.481032  \n",
       "176      2.062758    2.875359  \n",
       "177      2.556090    3.681020  \n",
       "178      2.787500    3.668750  \n",
       "179      2.312500    3.068750  \n",
       "\n",
       "[180 rows x 8 columns]"
      ]
     },
     "execution_count": 4,
     "metadata": {},
     "output_type": "execute_result"
    }
   ],
   "source": [
    "my_dataset"
   ]
  },
  {
   "cell_type": "code",
   "execution_count": 5,
   "metadata": {
    "pycharm": {
     "name": "#%%\n"
    },
    "scrolled": true
   },
   "outputs": [
    {
     "data": {
      "text/plain": [
       "<AxesSubplot:xlabel='_time'>"
      ]
     },
     "execution_count": 5,
     "metadata": {},
     "output_type": "execute_result"
    },
    {
     "data": {
      "image/png": "[encoded data removed]",
      "text/plain": [
       "<Figure size 432x288 with 1 Axes>"
      ]
     },
     "metadata": {
      "needs_background": "light"
     },
     "output_type": "display_data"
    }
   ],
   "source": [
    "my_dataset.plot.line(x='_time', y=[\"usage_idle\", \"usage_system\",\"usage_user\"])"
   ]
  }
 ],
 "metadata": {
  "kernelspec": {
   "display_name": "Python 3 (ipykernel)",
   "language": "python",
   "name": "python3"
  },
  "language_info": {
   "codemirror_mode": {
    "name": "ipython",
    "version": 3
   },
   "file_extension": ".py",
   "mimetype": "text/x-python",
   "name": "python",
   "nbconvert_exporter": "python",
   "pygments_lexer": "ipython3",
   "version": "3.9.10"
  }
 },
 "nbformat": 4,
 "nbformat_minor": 4
}